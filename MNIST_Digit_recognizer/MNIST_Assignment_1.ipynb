{
  "nbformat": 4,
  "nbformat_minor": 0,
  "metadata": {
    "kernelspec": {
      "name": "python3",
      "display_name": "Python 3"
    },
    "language_info": {
      "codemirror_mode": {
        "name": "ipython",
        "version": 3
      },
      "file_extension": ".py",
      "mimetype": "text/x-python",
      "name": "python",
      "nbconvert_exporter": "python",
      "pygments_lexer": "ipython3",
      "version": "3.5.5"
    },
    "colab": {
      "name": "MNIST_Assignment_1",
      "provenance": [],
      "collapsed_sections": []
    },
    "accelerator": "GPU"
  },
  "cells": [
    {
      "cell_type": "markdown",
      "metadata": {
        "collapsed": true,
        "id": "rKrlTvC3ZywV",
        "colab_type": "text"
      },
      "source": [
        "### Get the MNIST Data"
      ]
    },
    {
      "cell_type": "code",
      "metadata": {
        "id": "OwhNnTiNEWzO",
        "colab_type": "code",
        "colab": {}
      },
      "source": [
        "#!pip install tensorflow-gpu==2.0.0-alpha0"
      ],
      "execution_count": 0,
      "outputs": []
    },
    {
      "cell_type": "code",
      "metadata": {
        "id": "D9m7eSD_Gco4",
        "colab_type": "code",
        "outputId": "ea4dbfc3-6914-4608-ec66-0bd8585adb79",
        "colab": {
          "base_uri": "https://localhost:8080/",
          "height": 84
        }
      },
      "source": [
        "%tensorflow_version 1.x\n",
        "\n",
        "import tensorflow as tf\n",
        "print(tf.__version__)\n",
        "print(tf.test.gpu_device_name())\n",
        "print(\"Num GPUs Available: \", len(tf.config.experimental.list_physical_devices('GPU')))"
      ],
      "execution_count": 0,
      "outputs": [
        {
          "output_type": "stream",
          "text": [
            "TensorFlow 1.x selected.\n",
            "1.15.2\n",
            "/device:GPU:0\n",
            "Num GPUs Available:  1\n"
          ],
          "name": "stdout"
        }
      ]
    },
    {
      "cell_type": "code",
      "metadata": {
        "id": "jplfQ2APZywm",
        "colab_type": "code",
        "outputId": "3b93b835-fcce-4fc8-b80c-e038b2e656c7",
        "colab": {
          "resources": {
            "http://localhost:8080/nbextensions/google.colab/files.js": {
              "data": "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",
              "ok": true,
              "headers": [
                [
                  "content-type",
                  "application/javascript"
                ]
              ],
              "status": 200,
              "status_text": ""
            }
          },
          "base_uri": "https://localhost:8080/",
          "height": 91
        }
      },
      "source": [
        "from google.colab import files\n",
        "src = list(files.upload().values())[0]\n",
        "open('input_data.py','wb').write(src)\n",
        "# source :\n",
        "# https://github.com/tensorflow/tensorflow/blob/master/tensorflow/examples/tutorials/mnist/input_data.py\n",
        "# saved the file on local host and then uploaded"
      ],
      "execution_count": 0,
      "outputs": [
        {
          "output_type": "display_data",
          "data": {
            "text/html": [
              "\n",
              "     <input type=\"file\" id=\"files-6a3969aa-0c9f-43a6-acf6-0c742c86be71\" name=\"files[]\" multiple disabled />\n",
              "     <output id=\"result-6a3969aa-0c9f-43a6-acf6-0c742c86be71\">\n",
              "      Upload widget is only available when the cell has been executed in the\n",
              "      current browser session. Please rerun this cell to enable.\n",
              "      </output>\n",
              "      <script src=\"/nbextensions/google.colab/files.js\"></script> "
            ],
            "text/plain": [
              "<IPython.core.display.HTML object>"
            ]
          },
          "metadata": {
            "tags": []
          }
        },
        {
          "output_type": "stream",
          "text": [
            "Saving input_data.py to input_data.py\n"
          ],
          "name": "stdout"
        },
        {
          "output_type": "execute_result",
          "data": {
            "text/plain": [
              "12046"
            ]
          },
          "metadata": {
            "tags": []
          },
          "execution_count": 3
        }
      ]
    },
    {
      "cell_type": "code",
      "metadata": {
        "id": "7wKk4RqsANjL",
        "colab_type": "code",
        "colab": {}
      },
      "source": [
        "import input_data"
      ],
      "execution_count": 0,
      "outputs": []
    },
    {
      "cell_type": "code",
      "metadata": {
        "id": "8228koEVZywt",
        "colab_type": "code",
        "outputId": "d697133e-d455-4e6f-9c98-2c1ca91c9d6d",
        "colab": {
          "base_uri": "https://localhost:8080/",
          "height": 454
        }
      },
      "source": [
        "mnist = input_data.read_data_sets(\"MNIST_data/\",one_hot=True)"
      ],
      "execution_count": 0,
      "outputs": [
        {
          "output_type": "stream",
          "text": [
            "WARNING:tensorflow:From <ipython-input-5-758d29429358>:1: read_data_sets (from input_data) is deprecated and will be removed in a future version.\n",
            "Instructions for updating:\n",
            "Please use alternatives such as: tensorflow_datasets.load('mnist')\n",
            "WARNING:tensorflow:From /content/input_data.py:284: _maybe_download (from input_data) is deprecated and will be removed in a future version.\n",
            "Instructions for updating:\n",
            "Please write your own downloading logic.\n",
            "Successfully downloaded train-images-idx3-ubyte.gz 9912422 bytes.\n",
            "WARNING:tensorflow:From /content/input_data.py:286: _extract_images (from input_data) is deprecated and will be removed in a future version.\n",
            "Instructions for updating:\n",
            "Please use tf.data to implement this functionality.\n",
            "Extracting MNIST_data/train-images-idx3-ubyte.gz\n",
            "Successfully downloaded train-labels-idx1-ubyte.gz 28881 bytes.\n",
            "WARNING:tensorflow:From /content/input_data.py:291: _extract_labels (from input_data) is deprecated and will be removed in a future version.\n",
            "Instructions for updating:\n",
            "Please use tf.data to implement this functionality.\n",
            "Extracting MNIST_data/train-labels-idx1-ubyte.gz\n",
            "WARNING:tensorflow:From /content/input_data.py:104: _dense_to_one_hot (from input_data) is deprecated and will be removed in a future version.\n",
            "Instructions for updating:\n",
            "Please use tf.one_hot on tensors.\n",
            "Successfully downloaded t10k-images-idx3-ubyte.gz 1648877 bytes.\n",
            "Extracting MNIST_data/t10k-images-idx3-ubyte.gz\n",
            "Successfully downloaded t10k-labels-idx1-ubyte.gz 4542 bytes.\n",
            "Extracting MNIST_data/t10k-labels-idx1-ubyte.gz\n",
            "WARNING:tensorflow:From /content/input_data.py:315: _DataSet.__init__ (from input_data) is deprecated and will be removed in a future version.\n",
            "Instructions for updating:\n",
            "Please use alternatives such as official/mnist/_DataSet.py from tensorflow/models.\n"
          ],
          "name": "stdout"
        }
      ]
    },
    {
      "cell_type": "code",
      "metadata": {
        "id": "IwzEbINhZyw2",
        "colab_type": "code",
        "outputId": "522da9e2-82c5-4831-c1c3-b1ebdc34ad24",
        "colab": {
          "base_uri": "https://localhost:8080/",
          "height": 34
        }
      },
      "source": [
        "type(mnist)"
      ],
      "execution_count": 0,
      "outputs": [
        {
          "output_type": "execute_result",
          "data": {
            "text/plain": [
              "input_data._Datasets"
            ]
          },
          "metadata": {
            "tags": []
          },
          "execution_count": 6
        }
      ]
    },
    {
      "cell_type": "code",
      "metadata": {
        "id": "cvDIM1NPZyw9",
        "colab_type": "code",
        "outputId": "702872a1-0acd-480b-84a7-f7dfbbcba73a",
        "colab": {
          "base_uri": "https://localhost:8080/",
          "height": 134
        }
      },
      "source": [
        "mnist.train.images"
      ],
      "execution_count": 0,
      "outputs": [
        {
          "output_type": "execute_result",
          "data": {
            "text/plain": [
              "array([[0., 0., 0., ..., 0., 0., 0.],\n",
              "       [0., 0., 0., ..., 0., 0., 0.],\n",
              "       [0., 0., 0., ..., 0., 0., 0.],\n",
              "       ...,\n",
              "       [0., 0., 0., ..., 0., 0., 0.],\n",
              "       [0., 0., 0., ..., 0., 0., 0.],\n",
              "       [0., 0., 0., ..., 0., 0., 0.]], dtype=float32)"
            ]
          },
          "metadata": {
            "tags": []
          },
          "execution_count": 7
        }
      ]
    },
    {
      "cell_type": "code",
      "metadata": {
        "id": "ak18g3_4ZyxF",
        "colab_type": "code",
        "outputId": "b471f263-1f76-4ef6-e466-bffb88ead016",
        "colab": {
          "base_uri": "https://localhost:8080/",
          "height": 34
        }
      },
      "source": [
        "mnist.train.num_examples"
      ],
      "execution_count": 0,
      "outputs": [
        {
          "output_type": "execute_result",
          "data": {
            "text/plain": [
              "55000"
            ]
          },
          "metadata": {
            "tags": []
          },
          "execution_count": 8
        }
      ]
    },
    {
      "cell_type": "code",
      "metadata": {
        "id": "9BxBOGJHZyxL",
        "colab_type": "code",
        "outputId": "a7116fb0-5fc4-4b69-afa1-4688d4a0c79d",
        "colab": {
          "base_uri": "https://localhost:8080/",
          "height": 34
        }
      },
      "source": [
        "mnist.test.num_examples"
      ],
      "execution_count": 0,
      "outputs": [
        {
          "output_type": "execute_result",
          "data": {
            "text/plain": [
              "10000"
            ]
          },
          "metadata": {
            "tags": []
          },
          "execution_count": 9
        }
      ]
    },
    {
      "cell_type": "code",
      "metadata": {
        "id": "LJPAHeEjZyxP",
        "colab_type": "code",
        "outputId": "e350c2e5-3ecc-442b-9afc-93a488f3f085",
        "colab": {
          "base_uri": "https://localhost:8080/",
          "height": 34
        }
      },
      "source": [
        "mnist.validation.num_examples"
      ],
      "execution_count": 0,
      "outputs": [
        {
          "output_type": "execute_result",
          "data": {
            "text/plain": [
              "5000"
            ]
          },
          "metadata": {
            "tags": []
          },
          "execution_count": 10
        }
      ]
    },
    {
      "cell_type": "markdown",
      "metadata": {
        "id": "O4vG-TyHZyxT",
        "colab_type": "text"
      },
      "source": [
        "### Visualizing the Data"
      ]
    },
    {
      "cell_type": "code",
      "metadata": {
        "id": "OBhIJTp0ZyxU",
        "colab_type": "code",
        "colab": {}
      },
      "source": [
        "import matplotlib.pyplot as plt\n",
        "%matplotlib inline"
      ],
      "execution_count": 0,
      "outputs": []
    },
    {
      "cell_type": "code",
      "metadata": {
        "id": "c2ZJNnNKZyxY",
        "colab_type": "code",
        "outputId": "25fdf04b-1abe-4004-ec7d-f53b53ddd07d",
        "colab": {
          "base_uri": "https://localhost:8080/",
          "height": 34
        }
      },
      "source": [
        "mnist.train.images[1].shape"
      ],
      "execution_count": 0,
      "outputs": [
        {
          "output_type": "execute_result",
          "data": {
            "text/plain": [
              "(784,)"
            ]
          },
          "metadata": {
            "tags": []
          },
          "execution_count": 12
        }
      ]
    },
    {
      "cell_type": "code",
      "metadata": {
        "id": "TV5KGmJWBuH8",
        "colab_type": "code",
        "outputId": "886ac115-6668-42a0-fc08-32cac0572aec",
        "colab": {
          "base_uri": "https://localhost:8080/",
          "height": 282
        }
      },
      "source": [
        "x_example,y_example = mnist.train.next_batch(100)\n",
        "plt.imshow(x_example[1].reshape(28,28))\n",
        "print(y_example[1])"
      ],
      "execution_count": 0,
      "outputs": [
        {
          "output_type": "stream",
          "text": [
            "[0. 0. 0. 0. 0. 0. 0. 0. 1. 0.]\n"
          ],
          "name": "stdout"
        },
        {
          "output_type": "display_data",
          "data": {
            "image/png": "[encoded data removed]",
            "text/plain": [
              "<Figure size 432x288 with 1 Axes>"
            ]
          },
          "metadata": {
            "tags": []
          }
        }
      ]
    },
    {
      "cell_type": "code",
      "metadata": {
        "id": "pGYjGd0mD1Mg",
        "colab_type": "code",
        "outputId": "190782f7-fa91-4fd4-e8ce-a7e2a50c2453",
        "colab": {
          "base_uri": "https://localhost:8080/",
          "height": 34
        }
      },
      "source": [
        "x_example.reshape(100,28,28).shape"
      ],
      "execution_count": 0,
      "outputs": [
        {
          "output_type": "execute_result",
          "data": {
            "text/plain": [
              "(100, 28, 28)"
            ]
          },
          "metadata": {
            "tags": []
          },
          "execution_count": 14
        }
      ]
    },
    {
      "cell_type": "code",
      "metadata": {
        "id": "4AGG-4itZyxg",
        "colab_type": "code",
        "outputId": "e8cb98f0-b3a4-4b29-d2af-30533b1cd8dc",
        "colab": {
          "base_uri": "https://localhost:8080/",
          "height": 282
        }
      },
      "source": [
        "plt.imshow(mnist.train.images[1].reshape(28,28),cmap='gist_gray')"
      ],
      "execution_count": 0,
      "outputs": [
        {
          "output_type": "execute_result",
          "data": {
            "text/plain": [
              "<matplotlib.image.AxesImage at 0x7fe0af813d30>"
            ]
          },
          "metadata": {
            "tags": []
          },
          "execution_count": 15
        },
        {
          "output_type": "display_data",
          "data": {
            "image/png": "[encoded data removed]",
            "text/plain": [
              "<Figure size 432x288 with 1 Axes>"
            ]
          },
          "metadata": {
            "tags": []
          }
        }
      ]
    },
    {
      "cell_type": "markdown",
      "metadata": {
        "id": "fy6jRO2kZyxx",
        "colab_type": "text"
      },
      "source": [
        "## Create the Model"
      ]
    },
    {
      "cell_type": "markdown",
      "metadata": {
        "id": "OgAeguRHHNUF",
        "colab_type": "text"
      },
      "source": [
        "Helper Functions"
      ]
    },
    {
      "cell_type": "code",
      "metadata": {
        "id": "-4nvfvEHHHM0",
        "colab_type": "code",
        "colab": {}
      },
      "source": [
        "def init_weights(shape):\n",
        "    init_random_dist = tf.truncated_normal(shape, stddev=0.1)\n",
        "    return tf.Variable(init_random_dist)\n",
        "\n",
        "def init_bias(shape):\n",
        "    init_bias_vals = tf.constant(0.1, shape=shape)\n",
        "    return tf.Variable(init_bias_vals)\n",
        "\n",
        "def conv2d(x, W):\n",
        "    return tf.nn.conv2d(x, W, strides=[1, 1, 1, 1], padding='SAME')\n",
        "\n",
        "#def conv2d_stride(x,W):\n",
        "#    return tf.nn.conv2d(x,W, strides=[1,2,2,1], padding='SAME')\n",
        "\n",
        "def max_pool_2by2(x):\n",
        "    return tf.nn.max_pool(x, ksize=[1, 2, 2, 1],\n",
        "                          strides=[1, 2, 2, 1], padding='SAME')\n",
        "\n",
        "def convolutional_layer(input_x, shape):\n",
        "    W = init_weights(shape)\n",
        "    b = init_bias([shape[3]])\n",
        "    return tf.nn.relu(conv2d(input_x, W) + b)\n",
        "\n",
        "def convolutional_layer_padding(input_x, shape):\n",
        "    W = init_weights(shape)\n",
        "    b = init_bias([shape[3]])\n",
        "    return tf.nn.relu(conv2d_stride(input_x, W) + b)\n",
        "\n",
        "\n",
        "def normal_full_layer(input_layer, size):\n",
        "    input_size = int(input_layer.get_shape()[1])\n",
        "    W = init_weights([input_size, size])\n",
        "    b = init_bias([size])\n",
        "    return tf.matmul(input_layer, W) + b\n"
      ],
      "execution_count": 0,
      "outputs": []
    },
    {
      "cell_type": "markdown",
      "metadata": {
        "id": "7IhTNW5ZKtdp",
        "colab_type": "text"
      },
      "source": [
        "Placeholders"
      ]
    },
    {
      "cell_type": "code",
      "metadata": {
        "id": "nOsEeBAJKwAE",
        "colab_type": "code",
        "colab": {}
      },
      "source": [
        "x = tf.placeholder(tf.float32,shape=[None,784])\n",
        "y_true = tf.placeholder(tf.float32,shape=[None,10])"
      ],
      "execution_count": 0,
      "outputs": []
    },
    {
      "cell_type": "code",
      "metadata": {
        "id": "7M9lgWBWKzVA",
        "colab_type": "code",
        "colab": {}
      },
      "source": [
        "# for dropout\n",
        "hold_prob = tf.placeholder(tf.float32)"
      ],
      "execution_count": 0,
      "outputs": []
    },
    {
      "cell_type": "code",
      "metadata": {
        "id": "hO-_qeYp7KQa",
        "colab_type": "code",
        "colab": {}
      },
      "source": [
        "# for batch_normalization\n",
        "#is_train = tf.placeholder(tf.bool, name=\"is_train\")"
      ],
      "execution_count": 0,
      "outputs": []
    },
    {
      "cell_type": "markdown",
      "metadata": {
        "id": "EZHrhlHsLJsj",
        "colab_type": "text"
      },
      "source": [
        "Layers"
      ]
    },
    {
      "cell_type": "code",
      "metadata": {
        "id": "y0gCKatCLLat",
        "colab_type": "code",
        "colab": {}
      },
      "source": [
        "x_image = tf.reshape(x,[-1,28,28,1])"
      ],
      "execution_count": 0,
      "outputs": []
    },
    {
      "cell_type": "code",
      "metadata": {
        "id": "jpTM8V6YLfEG",
        "colab_type": "code",
        "outputId": "9093fb90-60a4-4dfd-cfc6-7d6687316b4d",
        "colab": {
          "base_uri": "https://localhost:8080/",
          "height": 67
        }
      },
      "source": [
        "convo_1_1 = convolutional_layer(x_image, shape=[3,3,1,32])\n",
        "convo_1_2 = convolutional_layer(convo_1_1, shape=[3,3,32,32])\n",
        "#convo_1_3 = convolutional_layer_padding(convo_1_2, shape=[5,5,32,32])\n",
        "convo_1_pooling = max_pool_2by2(convo_1_2)\n",
        "#convo_normal_1 = tf.layers.batch_normalization(convo_1_pooling, training=is_train)\n",
        "convo_1_dropout = tf.nn.dropout(convo_1_pooling, keep_prob=hold_prob)"
      ],
      "execution_count": 0,
      "outputs": [
        {
          "output_type": "stream",
          "text": [
            "WARNING:tensorflow:From <ipython-input-21-b597bd797aed>:6: calling dropout (from tensorflow.python.ops.nn_ops) with keep_prob is deprecated and will be removed in a future version.\n",
            "Instructions for updating:\n",
            "Please use `rate` instead of `keep_prob`. Rate should be set to `rate = 1 - keep_prob`.\n"
          ],
          "name": "stdout"
        }
      ]
    },
    {
      "cell_type": "code",
      "metadata": {
        "id": "tXgsS1h8L8Ob",
        "colab_type": "code",
        "colab": {}
      },
      "source": [
        "convo_2_1 = convolutional_layer(convo_1_dropout, shape=[3,3,32,64])\n",
        "convo_2_2 = convolutional_layer(convo_2_1, shape=[3,3,64,64])\n",
        "#convo_2_3 = convolutional_layer_padding(convo_2_2, shape=[5,5,64,64])\n",
        "convo_2_pooling = max_pool_2by2(convo_2_2)\n",
        "#convo_normal_2 = tf.layers.batch_normalization(convo_2_pooling, training=is_train)\n",
        "convo_2_dropout = tf.nn.dropout(convo_2_pooling, keep_prob=hold_prob)"
      ],
      "execution_count": 0,
      "outputs": []
    },
    {
      "cell_type": "code",
      "metadata": {
        "id": "EQPpV6nUMPIg",
        "colab_type": "code",
        "colab": {}
      },
      "source": [
        "convo_2_flat = tf.reshape(convo_2_dropout,[-1,7*7*64])\n",
        "# using n_out = [(n_in+2p-k)/s]+1"
      ],
      "execution_count": 0,
      "outputs": []
    },
    {
      "cell_type": "code",
      "metadata": {
        "id": "EdPaZJAX_Pul",
        "colab_type": "code",
        "colab": {}
      },
      "source": [
        "full_layer_one = tf.nn.relu(normal_full_layer(convo_2_flat,128))\n",
        "#full_layer_one_normal = tf.layers.batch_normalization(full_layer_one,training=is_train)\n",
        "full_one_dropout = tf.nn.dropout(full_layer_one,keep_prob=hold_prob)"
      ],
      "execution_count": 0,
      "outputs": []
    },
    {
      "cell_type": "code",
      "metadata": {
        "id": "ngOY1dNDQCw_",
        "colab_type": "code",
        "colab": {}
      },
      "source": [
        "y_pred = normal_full_layer(full_one_dropout,10)"
      ],
      "execution_count": 0,
      "outputs": []
    },
    {
      "cell_type": "markdown",
      "metadata": {
        "id": "Pc-NBG1mZyx-",
        "colab_type": "text"
      },
      "source": [
        "Loss and Optimizer"
      ]
    },
    {
      "cell_type": "code",
      "metadata": {
        "id": "JqCp64AzQWvT",
        "colab_type": "code",
        "outputId": "6ec3003f-3314-408d-e04c-b09b54af0f3a",
        "colab": {
          "base_uri": "https://localhost:8080/",
          "height": 151
        }
      },
      "source": [
        "# Loss Function\n",
        "cross_entropy = tf.reduce_mean(tf.nn.softmax_cross_entropy_with_logits(labels=y_true,logits=y_pred))"
      ],
      "execution_count": 0,
      "outputs": [
        {
          "output_type": "stream",
          "text": [
            "WARNING:tensorflow:From <ipython-input-26-e0c07892321c>:1: softmax_cross_entropy_with_logits (from tensorflow.python.ops.nn_ops) is deprecated and will be removed in a future version.\n",
            "Instructions for updating:\n",
            "\n",
            "Future major versions of TensorFlow will allow gradients to flow\n",
            "into the labels input on backprop by default.\n",
            "\n",
            "See `tf.nn.softmax_cross_entropy_with_logits_v2`.\n",
            "\n"
          ],
          "name": "stdout"
        }
      ]
    },
    {
      "cell_type": "code",
      "metadata": {
        "id": "U3n0noj_Zyx_",
        "colab_type": "code",
        "colab": {}
      },
      "source": [
        "# Optimizer\n",
        "optimizer = tf.train.AdamOptimizer(learning_rate=0.001)\n",
        "train = optimizer.minimize(cross_entropy)"
      ],
      "execution_count": 0,
      "outputs": []
    },
    {
      "cell_type": "code",
      "metadata": {
        "id": "vWeEoRXGX8WV",
        "colab_type": "code",
        "colab": {}
      },
      "source": [
        "# Accuracy\n",
        "matches = tf.equal(tf.argmax(y_pred,1),tf.argmax(y_true,1))\n",
        "accuracy = tf.reduce_mean(tf.cast(matches,tf.float32))"
      ],
      "execution_count": 0,
      "outputs": []
    },
    {
      "cell_type": "markdown",
      "metadata": {
        "id": "d5Liw1_uZyyM",
        "colab_type": "text"
      },
      "source": [
        "### Create Session"
      ]
    },
    {
      "cell_type": "code",
      "metadata": {
        "id": "XARLzUCtZyyM",
        "colab_type": "code",
        "colab": {}
      },
      "source": [
        "init = tf.global_variables_initializer()"
      ],
      "execution_count": 0,
      "outputs": []
    },
    {
      "cell_type": "code",
      "metadata": {
        "id": "JnCMvMluZyyQ",
        "colab_type": "code",
        "outputId": "c4168642-020b-4646-f62e-be57f4afb2fa",
        "colab": {
          "base_uri": "https://localhost:8080/",
          "height": 1000
        }
      },
      "source": [
        "steps = 10000\n",
        "\n",
        "with tf.Session() as sess:\n",
        "  \n",
        "  sess.run(init)\n",
        "\n",
        "  train_loss = []\n",
        "  test_loss = []\n",
        "  train_accuracy = []\n",
        "  test_accuracy = []\n",
        "  summary_writer = tf.summary.FileWriter('./Output', sess.graph)\n",
        "\n",
        "  for i in range(steps):\n",
        "    batch_x, batch_y = mnist.train.next_batch(50)\n",
        "\n",
        "    opt = sess.run(train,feed_dict={x:batch_x,y_true:batch_y,hold_prob:0.6})#,is_train:True})\n",
        "\n",
        "    loss, acc = sess.run([cross_entropy,accuracy],feed_dict={x:batch_x,y_true:batch_y,hold_prob:1.0})#,is_train:False})\n",
        "\n",
        "    val_loss,test_acc = sess.run([cross_entropy,accuracy],feed_dict={x:mnist.test.images,y_true:mnist.test.labels,hold_prob:1.0})#,is_train:False})\n",
        "\n",
        "    \n",
        "\n",
        "    if i%100 == 0:\n",
        "\n",
        "      print(\"ON STEP: {}\".format(i))\n",
        "\n",
        "      print(\"LOSS:\")\n",
        "      print(loss)\n",
        "\n",
        "      print(\"TRAINING ACCURACY:\")\n",
        "      print(acc)\n",
        "      \n",
        "      print(\"TESTING ACCURACY:\")\n",
        "      print(test_acc)\n",
        "      print('\\n')\n",
        "\n",
        "      if i>= 500:\n",
        "\n",
        "        train_loss.append(loss)\n",
        "        test_loss.append(val_loss)\n",
        "        train_accuracy.append(acc)\n",
        "        test_accuracy.append(test_acc)"
      ],
      "execution_count": 0,
      "outputs": [
        {
          "output_type": "stream",
          "text": [
            "ON STEP: 0\n",
            "LOSS:\n",
            "2.5603747\n",
            "TRAINING ACCURACY:\n",
            "0.16\n",
            "TESTING ACCURACY:\n",
            "0.0873\n",
            "\n",
            "\n",
            "ON STEP: 100\n",
            "LOSS:\n",
            "0.70175326\n",
            "TRAINING ACCURACY:\n",
            "0.84\n",
            "TESTING ACCURACY:\n",
            "0.7874\n",
            "\n",
            "\n",
            "ON STEP: 200\n",
            "LOSS:\n",
            "0.49512947\n",
            "TRAINING ACCURACY:\n",
            "0.84\n",
            "TESTING ACCURACY:\n",
            "0.9204\n",
            "\n",
            "\n",
            "ON STEP: 300\n",
            "LOSS:\n",
            "0.18482323\n",
            "TRAINING ACCURACY:\n",
            "0.96\n",
            "TESTING ACCURACY:\n",
            "0.9448\n",
            "\n",
            "\n",
            "ON STEP: 400\n",
            "LOSS:\n",
            "0.16379362\n",
            "TRAINING ACCURACY:\n",
            "0.92\n",
            "TESTING ACCURACY:\n",
            "0.9609\n",
            "\n",
            "\n",
            "ON STEP: 500\n",
            "LOSS:\n",
            "0.17888455\n",
            "TRAINING ACCURACY:\n",
            "0.94\n",
            "TESTING ACCURACY:\n",
            "0.9681\n",
            "\n",
            "\n",
            "ON STEP: 600\n",
            "LOSS:\n",
            "0.055955373\n",
            "TRAINING ACCURACY:\n",
            "1.0\n",
            "TESTING ACCURACY:\n",
            "0.9722\n",
            "\n",
            "\n",
            "ON STEP: 700\n",
            "LOSS:\n",
            "0.079509266\n",
            "TRAINING ACCURACY:\n",
            "0.96\n",
            "TESTING ACCURACY:\n",
            "0.9733\n",
            "\n",
            "\n",
            "ON STEP: 800\n",
            "LOSS:\n",
            "0.06952024\n",
            "TRAINING ACCURACY:\n",
            "0.98\n",
            "TESTING ACCURACY:\n",
            "0.9782\n",
            "\n",
            "\n",
            "ON STEP: 900\n",
            "LOSS:\n",
            "0.093126565\n",
            "TRAINING ACCURACY:\n",
            "0.96\n",
            "TESTING ACCURACY:\n",
            "0.9732\n",
            "\n",
            "\n",
            "ON STEP: 1000\n",
            "LOSS:\n",
            "0.05150751\n",
            "TRAINING ACCURACY:\n",
            "0.98\n",
            "TESTING ACCURACY:\n",
            "0.9783\n",
            "\n",
            "\n",
            "ON STEP: 1100\n",
            "LOSS:\n",
            "0.030536385\n",
            "TRAINING ACCURACY:\n",
            "1.0\n",
            "TESTING ACCURACY:\n",
            "0.9784\n",
            "\n",
            "\n",
            "ON STEP: 1200\n",
            "LOSS:\n",
            "0.011937374\n",
            "TRAINING ACCURACY:\n",
            "1.0\n",
            "TESTING ACCURACY:\n",
            "0.9833\n",
            "\n",
            "\n",
            "ON STEP: 1300\n",
            "LOSS:\n",
            "0.02244272\n",
            "TRAINING ACCURACY:\n",
            "1.0\n",
            "TESTING ACCURACY:\n",
            "0.9849\n",
            "\n",
            "\n",
            "ON STEP: 1400\n",
            "LOSS:\n",
            "0.009418096\n",
            "TRAINING ACCURACY:\n",
            "1.0\n",
            "TESTING ACCURACY:\n",
            "0.9856\n",
            "\n",
            "\n",
            "ON STEP: 1500\n",
            "LOSS:\n",
            "0.07967721\n",
            "TRAINING ACCURACY:\n",
            "0.98\n",
            "TESTING ACCURACY:\n",
            "0.9844\n",
            "\n",
            "\n",
            "ON STEP: 1600\n",
            "LOSS:\n",
            "0.10584088\n",
            "TRAINING ACCURACY:\n",
            "0.98\n",
            "TESTING ACCURACY:\n",
            "0.9834\n",
            "\n",
            "\n",
            "ON STEP: 1700\n",
            "LOSS:\n",
            "0.026623812\n",
            "TRAINING ACCURACY:\n",
            "0.98\n",
            "TESTING ACCURACY:\n",
            "0.983\n",
            "\n",
            "\n",
            "ON STEP: 1800\n",
            "LOSS:\n",
            "0.037907578\n",
            "TRAINING ACCURACY:\n",
            "0.98\n",
            "TESTING ACCURACY:\n",
            "0.9883\n",
            "\n",
            "\n",
            "ON STEP: 1900\n",
            "LOSS:\n",
            "0.08651294\n",
            "TRAINING ACCURACY:\n",
            "0.96\n",
            "TESTING ACCURACY:\n",
            "0.9865\n",
            "\n",
            "\n",
            "ON STEP: 2000\n",
            "LOSS:\n",
            "0.021459706\n",
            "TRAINING ACCURACY:\n",
            "1.0\n",
            "TESTING ACCURACY:\n",
            "0.9872\n",
            "\n",
            "\n",
            "ON STEP: 2100\n",
            "LOSS:\n",
            "0.059708532\n",
            "TRAINING ACCURACY:\n",
            "0.96\n",
            "TESTING ACCURACY:\n",
            "0.9854\n",
            "\n",
            "\n",
            "ON STEP: 2200\n",
            "LOSS:\n",
            "0.11816269\n",
            "TRAINING ACCURACY:\n",
            "0.98\n",
            "TESTING ACCURACY:\n",
            "0.988\n",
            "\n",
            "\n",
            "ON STEP: 2300\n",
            "LOSS:\n",
            "0.0010964877\n",
            "TRAINING ACCURACY:\n",
            "1.0\n",
            "TESTING ACCURACY:\n",
            "0.9873\n",
            "\n",
            "\n",
            "ON STEP: 2400\n",
            "LOSS:\n",
            "0.006099364\n",
            "TRAINING ACCURACY:\n",
            "1.0\n",
            "TESTING ACCURACY:\n",
            "0.9878\n",
            "\n",
            "\n",
            "ON STEP: 2500\n",
            "LOSS:\n",
            "0.10702385\n",
            "TRAINING ACCURACY:\n",
            "0.98\n",
            "TESTING ACCURACY:\n",
            "0.9882\n",
            "\n",
            "\n",
            "ON STEP: 2600\n",
            "LOSS:\n",
            "0.032486204\n",
            "TRAINING ACCURACY:\n",
            "0.98\n",
            "TESTING ACCURACY:\n",
            "0.9879\n",
            "\n",
            "\n",
            "ON STEP: 2700\n",
            "LOSS:\n",
            "0.0068168426\n",
            "TRAINING ACCURACY:\n",
            "1.0\n",
            "TESTING ACCURACY:\n",
            "0.9895\n",
            "\n",
            "\n",
            "ON STEP: 2800\n",
            "LOSS:\n",
            "0.04023497\n",
            "TRAINING ACCURACY:\n",
            "0.98\n",
            "TESTING ACCURACY:\n",
            "0.9894\n",
            "\n",
            "\n",
            "ON STEP: 2900\n",
            "LOSS:\n",
            "0.041692737\n",
            "TRAINING ACCURACY:\n",
            "0.98\n",
            "TESTING ACCURACY:\n",
            "0.9901\n",
            "\n",
            "\n",
            "ON STEP: 3000\n",
            "LOSS:\n",
            "0.06116475\n",
            "TRAINING ACCURACY:\n",
            "0.98\n",
            "TESTING ACCURACY:\n",
            "0.9907\n",
            "\n",
            "\n",
            "ON STEP: 3100\n",
            "LOSS:\n",
            "0.005473675\n",
            "TRAINING ACCURACY:\n",
            "1.0\n",
            "TESTING ACCURACY:\n",
            "0.9897\n",
            "\n",
            "\n",
            "ON STEP: 3200\n",
            "LOSS:\n",
            "0.031796973\n",
            "TRAINING ACCURACY:\n",
            "0.98\n",
            "TESTING ACCURACY:\n",
            "0.9905\n",
            "\n",
            "\n",
            "ON STEP: 3300\n",
            "LOSS:\n",
            "0.015590948\n",
            "TRAINING ACCURACY:\n",
            "1.0\n",
            "TESTING ACCURACY:\n",
            "0.9876\n",
            "\n",
            "\n",
            "ON STEP: 3400\n",
            "LOSS:\n",
            "0.021393973\n",
            "TRAINING ACCURACY:\n",
            "0.98\n",
            "TESTING ACCURACY:\n",
            "0.9902\n",
            "\n",
            "\n",
            "ON STEP: 3500\n",
            "LOSS:\n",
            "0.000735409\n",
            "TRAINING ACCURACY:\n",
            "1.0\n",
            "TESTING ACCURACY:\n",
            "0.9909\n",
            "\n",
            "\n",
            "ON STEP: 3600\n",
            "LOSS:\n",
            "0.0014822325\n",
            "TRAINING ACCURACY:\n",
            "1.0\n",
            "TESTING ACCURACY:\n",
            "0.9908\n",
            "\n",
            "\n",
            "ON STEP: 3700\n",
            "LOSS:\n",
            "0.017442334\n",
            "TRAINING ACCURACY:\n",
            "1.0\n",
            "TESTING ACCURACY:\n",
            "0.9915\n",
            "\n",
            "\n",
            "ON STEP: 3800\n",
            "LOSS:\n",
            "0.011439901\n",
            "TRAINING ACCURACY:\n",
            "1.0\n",
            "TESTING ACCURACY:\n",
            "0.991\n",
            "\n",
            "\n",
            "ON STEP: 3900\n",
            "LOSS:\n",
            "0.0014452451\n",
            "TRAINING ACCURACY:\n",
            "1.0\n",
            "TESTING ACCURACY:\n",
            "0.9914\n",
            "\n",
            "\n",
            "ON STEP: 4000\n",
            "LOSS:\n",
            "0.018154096\n",
            "TRAINING ACCURACY:\n",
            "1.0\n",
            "TESTING ACCURACY:\n",
            "0.9917\n",
            "\n",
            "\n",
            "ON STEP: 4100\n",
            "LOSS:\n",
            "0.0050224797\n",
            "TRAINING ACCURACY:\n",
            "1.0\n",
            "TESTING ACCURACY:\n",
            "0.9904\n",
            "\n",
            "\n",
            "ON STEP: 4200\n",
            "LOSS:\n",
            "0.022596614\n",
            "TRAINING ACCURACY:\n",
            "1.0\n",
            "TESTING ACCURACY:\n",
            "0.9919\n",
            "\n",
            "\n",
            "ON STEP: 4300\n",
            "LOSS:\n",
            "0.011631812\n",
            "TRAINING ACCURACY:\n",
            "1.0\n",
            "TESTING ACCURACY:\n",
            "0.9911\n",
            "\n",
            "\n",
            "ON STEP: 4400\n",
            "LOSS:\n",
            "0.054996453\n",
            "TRAINING ACCURACY:\n",
            "0.98\n",
            "TESTING ACCURACY:\n",
            "0.9921\n",
            "\n",
            "\n",
            "ON STEP: 4500\n",
            "LOSS:\n",
            "0.000136592\n",
            "TRAINING ACCURACY:\n",
            "1.0\n",
            "TESTING ACCURACY:\n",
            "0.9928\n",
            "\n",
            "\n",
            "ON STEP: 4600\n",
            "LOSS:\n",
            "0.057423674\n",
            "TRAINING ACCURACY:\n",
            "0.98\n",
            "TESTING ACCURACY:\n",
            "0.9905\n",
            "\n",
            "\n",
            "ON STEP: 4700\n",
            "LOSS:\n",
            "0.00382387\n",
            "TRAINING ACCURACY:\n",
            "1.0\n",
            "TESTING ACCURACY:\n",
            "0.9926\n",
            "\n",
            "\n",
            "ON STEP: 4800\n",
            "LOSS:\n",
            "0.0076165865\n",
            "TRAINING ACCURACY:\n",
            "1.0\n",
            "TESTING ACCURACY:\n",
            "0.9909\n",
            "\n",
            "\n",
            "ON STEP: 4900\n",
            "LOSS:\n",
            "0.0028408577\n",
            "TRAINING ACCURACY:\n",
            "1.0\n",
            "TESTING ACCURACY:\n",
            "0.9926\n",
            "\n",
            "\n",
            "ON STEP: 5000\n",
            "LOSS:\n",
            "0.0010086899\n",
            "TRAINING ACCURACY:\n",
            "1.0\n",
            "TESTING ACCURACY:\n",
            "0.9932\n",
            "\n",
            "\n",
            "ON STEP: 5100\n",
            "LOSS:\n",
            "0.0013935039\n",
            "TRAINING ACCURACY:\n",
            "1.0\n",
            "TESTING ACCURACY:\n",
            "0.9922\n",
            "\n",
            "\n",
            "ON STEP: 5200\n",
            "LOSS:\n",
            "0.10667232\n",
            "TRAINING ACCURACY:\n",
            "0.98\n",
            "TESTING ACCURACY:\n",
            "0.9918\n",
            "\n",
            "\n",
            "ON STEP: 5300\n",
            "LOSS:\n",
            "0.011730082\n",
            "TRAINING ACCURACY:\n",
            "1.0\n",
            "TESTING ACCURACY:\n",
            "0.9916\n",
            "\n",
            "\n",
            "ON STEP: 5400\n",
            "LOSS:\n",
            "0.0009773921\n",
            "TRAINING ACCURACY:\n",
            "1.0\n",
            "TESTING ACCURACY:\n",
            "0.992\n",
            "\n",
            "\n",
            "ON STEP: 5500\n",
            "LOSS:\n",
            "0.0017644915\n",
            "TRAINING ACCURACY:\n",
            "1.0\n",
            "TESTING ACCURACY:\n",
            "0.9931\n",
            "\n",
            "\n",
            "ON STEP: 5600\n",
            "LOSS:\n",
            "0.005817062\n",
            "TRAINING ACCURACY:\n",
            "1.0\n",
            "TESTING ACCURACY:\n",
            "0.9924\n",
            "\n",
            "\n",
            "ON STEP: 5700\n",
            "LOSS:\n",
            "0.20810476\n",
            "TRAINING ACCURACY:\n",
            "0.96\n",
            "TESTING ACCURACY:\n",
            "0.9915\n",
            "\n",
            "\n",
            "ON STEP: 5800\n",
            "LOSS:\n",
            "0.0006801914\n",
            "TRAINING ACCURACY:\n",
            "1.0\n",
            "TESTING ACCURACY:\n",
            "0.993\n",
            "\n",
            "\n",
            "ON STEP: 5900\n",
            "LOSS:\n",
            "0.014153049\n",
            "TRAINING ACCURACY:\n",
            "1.0\n",
            "TESTING ACCURACY:\n",
            "0.9929\n",
            "\n",
            "\n",
            "ON STEP: 6000\n",
            "LOSS:\n",
            "0.018709095\n",
            "TRAINING ACCURACY:\n",
            "1.0\n",
            "TESTING ACCURACY:\n",
            "0.9925\n",
            "\n",
            "\n",
            "ON STEP: 6100\n",
            "LOSS:\n",
            "0.0029458986\n",
            "TRAINING ACCURACY:\n",
            "1.0\n",
            "TESTING ACCURACY:\n",
            "0.9933\n",
            "\n",
            "\n",
            "ON STEP: 6200\n",
            "LOSS:\n",
            "0.006954493\n",
            "TRAINING ACCURACY:\n",
            "1.0\n",
            "TESTING ACCURACY:\n",
            "0.9928\n",
            "\n",
            "\n",
            "ON STEP: 6300\n",
            "LOSS:\n",
            "0.064821266\n",
            "TRAINING ACCURACY:\n",
            "0.98\n",
            "TESTING ACCURACY:\n",
            "0.9941\n",
            "\n",
            "\n",
            "ON STEP: 6400\n",
            "LOSS:\n",
            "0.0070894975\n",
            "TRAINING ACCURACY:\n",
            "1.0\n",
            "TESTING ACCURACY:\n",
            "0.994\n",
            "\n",
            "\n",
            "ON STEP: 6500\n",
            "LOSS:\n",
            "0.0075070523\n",
            "TRAINING ACCURACY:\n",
            "1.0\n",
            "TESTING ACCURACY:\n",
            "0.9926\n",
            "\n",
            "\n",
            "ON STEP: 6600\n",
            "LOSS:\n",
            "0.074642316\n",
            "TRAINING ACCURACY:\n",
            "0.98\n",
            "TESTING ACCURACY:\n",
            "0.9932\n",
            "\n",
            "\n",
            "ON STEP: 6700\n",
            "LOSS:\n",
            "0.054531146\n",
            "TRAINING ACCURACY:\n",
            "0.98\n",
            "TESTING ACCURACY:\n",
            "0.993\n",
            "\n",
            "\n",
            "ON STEP: 6800\n",
            "LOSS:\n",
            "0.03264388\n",
            "TRAINING ACCURACY:\n",
            "0.98\n",
            "TESTING ACCURACY:\n",
            "0.9935\n",
            "\n",
            "\n",
            "ON STEP: 6900\n",
            "LOSS:\n",
            "0.0009889257\n",
            "TRAINING ACCURACY:\n",
            "1.0\n",
            "TESTING ACCURACY:\n",
            "0.9938\n",
            "\n",
            "\n",
            "ON STEP: 7000\n",
            "LOSS:\n",
            "0.009058745\n",
            "TRAINING ACCURACY:\n",
            "1.0\n",
            "TESTING ACCURACY:\n",
            "0.9934\n",
            "\n",
            "\n",
            "ON STEP: 7100\n",
            "LOSS:\n",
            "0.029589865\n",
            "TRAINING ACCURACY:\n",
            "0.98\n",
            "TESTING ACCURACY:\n",
            "0.993\n",
            "\n",
            "\n",
            "ON STEP: 7200\n",
            "LOSS:\n",
            "0.023461929\n",
            "TRAINING ACCURACY:\n",
            "0.98\n",
            "TESTING ACCURACY:\n",
            "0.993\n",
            "\n",
            "\n",
            "ON STEP: 7300\n",
            "LOSS:\n",
            "0.08608434\n",
            "TRAINING ACCURACY:\n",
            "0.96\n",
            "TESTING ACCURACY:\n",
            "0.9928\n",
            "\n",
            "\n",
            "ON STEP: 7400\n",
            "LOSS:\n",
            "0.015859757\n",
            "TRAINING ACCURACY:\n",
            "0.98\n",
            "TESTING ACCURACY:\n",
            "0.9945\n",
            "\n",
            "\n",
            "ON STEP: 7500\n",
            "LOSS:\n",
            "0.06036431\n",
            "TRAINING ACCURACY:\n",
            "0.96\n",
            "TESTING ACCURACY:\n",
            "0.9935\n",
            "\n",
            "\n",
            "ON STEP: 7600\n",
            "LOSS:\n",
            "0.0030666366\n",
            "TRAINING ACCURACY:\n",
            "1.0\n",
            "TESTING ACCURACY:\n",
            "0.9942\n",
            "\n",
            "\n",
            "ON STEP: 7700\n",
            "LOSS:\n",
            "0.000549993\n",
            "TRAINING ACCURACY:\n",
            "1.0\n",
            "TESTING ACCURACY:\n",
            "0.9943\n",
            "\n",
            "\n",
            "ON STEP: 7800\n",
            "LOSS:\n",
            "0.013166312\n",
            "TRAINING ACCURACY:\n",
            "1.0\n",
            "TESTING ACCURACY:\n",
            "0.9929\n",
            "\n",
            "\n",
            "ON STEP: 7900\n",
            "LOSS:\n",
            "0.010954734\n",
            "TRAINING ACCURACY:\n",
            "1.0\n",
            "TESTING ACCURACY:\n",
            "0.9932\n",
            "\n",
            "\n",
            "ON STEP: 8000\n",
            "LOSS:\n",
            "0.0025762795\n",
            "TRAINING ACCURACY:\n",
            "1.0\n",
            "TESTING ACCURACY:\n",
            "0.9937\n",
            "\n",
            "\n",
            "ON STEP: 8100\n",
            "LOSS:\n",
            "0.0020223754\n",
            "TRAINING ACCURACY:\n",
            "1.0\n",
            "TESTING ACCURACY:\n",
            "0.9921\n",
            "\n",
            "\n",
            "ON STEP: 8200\n",
            "LOSS:\n",
            "0.0002622751\n",
            "TRAINING ACCURACY:\n",
            "1.0\n",
            "TESTING ACCURACY:\n",
            "0.9935\n",
            "\n",
            "\n",
            "ON STEP: 8300\n",
            "LOSS:\n",
            "0.00028801532\n",
            "TRAINING ACCURACY:\n",
            "1.0\n",
            "TESTING ACCURACY:\n",
            "0.9932\n",
            "\n",
            "\n",
            "ON STEP: 8400\n",
            "LOSS:\n",
            "0.00056274724\n",
            "TRAINING ACCURACY:\n",
            "1.0\n",
            "TESTING ACCURACY:\n",
            "0.9928\n",
            "\n",
            "\n",
            "ON STEP: 8500\n",
            "LOSS:\n",
            "0.14585999\n",
            "TRAINING ACCURACY:\n",
            "0.98\n",
            "TESTING ACCURACY:\n",
            "0.9925\n",
            "\n",
            "\n",
            "ON STEP: 8600\n",
            "LOSS:\n",
            "0.0038924497\n",
            "TRAINING ACCURACY:\n",
            "1.0\n",
            "TESTING ACCURACY:\n",
            "0.994\n",
            "\n",
            "\n",
            "ON STEP: 8700\n",
            "LOSS:\n",
            "0.00088039605\n",
            "TRAINING ACCURACY:\n",
            "1.0\n",
            "TESTING ACCURACY:\n",
            "0.9933\n",
            "\n",
            "\n",
            "ON STEP: 8800\n",
            "LOSS:\n",
            "0.0048892642\n",
            "TRAINING ACCURACY:\n",
            "1.0\n",
            "TESTING ACCURACY:\n",
            "0.9934\n",
            "\n",
            "\n",
            "ON STEP: 8900\n",
            "LOSS:\n",
            "0.021028828\n",
            "TRAINING ACCURACY:\n",
            "1.0\n",
            "TESTING ACCURACY:\n",
            "0.9935\n",
            "\n",
            "\n",
            "ON STEP: 9000\n",
            "LOSS:\n",
            "0.0033317977\n",
            "TRAINING ACCURACY:\n",
            "1.0\n",
            "TESTING ACCURACY:\n",
            "0.9927\n",
            "\n",
            "\n",
            "ON STEP: 9100\n",
            "LOSS:\n",
            "0.008180215\n",
            "TRAINING ACCURACY:\n",
            "1.0\n",
            "TESTING ACCURACY:\n",
            "0.9935\n",
            "\n",
            "\n",
            "ON STEP: 9200\n",
            "LOSS:\n",
            "0.0013108826\n",
            "TRAINING ACCURACY:\n",
            "1.0\n",
            "TESTING ACCURACY:\n",
            "0.9929\n",
            "\n",
            "\n",
            "ON STEP: 9300\n",
            "LOSS:\n",
            "0.015623877\n",
            "TRAINING ACCURACY:\n",
            "1.0\n",
            "TESTING ACCURACY:\n",
            "0.9948\n",
            "\n",
            "\n",
            "ON STEP: 9400\n",
            "LOSS:\n",
            "0.009630834\n",
            "TRAINING ACCURACY:\n",
            "1.0\n",
            "TESTING ACCURACY:\n",
            "0.9946\n",
            "\n",
            "\n",
            "ON STEP: 9500\n",
            "LOSS:\n",
            "0.010603977\n",
            "TRAINING ACCURACY:\n",
            "1.0\n",
            "TESTING ACCURACY:\n",
            "0.9946\n",
            "\n",
            "\n",
            "ON STEP: 9600\n",
            "LOSS:\n",
            "0.0028312597\n",
            "TRAINING ACCURACY:\n",
            "1.0\n",
            "TESTING ACCURACY:\n",
            "0.9927\n",
            "\n",
            "\n",
            "ON STEP: 9700\n",
            "LOSS:\n",
            "0.00055614224\n",
            "TRAINING ACCURACY:\n",
            "1.0\n",
            "TESTING ACCURACY:\n",
            "0.9944\n",
            "\n",
            "\n",
            "ON STEP: 9800\n",
            "LOSS:\n",
            "0.0006451157\n",
            "TRAINING ACCURACY:\n",
            "1.0\n",
            "TESTING ACCURACY:\n",
            "0.994\n",
            "\n",
            "\n",
            "ON STEP: 9900\n",
            "LOSS:\n",
            "0.00042854276\n",
            "TRAINING ACCURACY:\n",
            "1.0\n",
            "TESTING ACCURACY:\n",
            "0.9948\n",
            "\n",
            "\n"
          ],
          "name": "stdout"
        }
      ]
    },
    {
      "cell_type": "code",
      "metadata": {
        "id": "2NS2QjtbIX4a",
        "colab_type": "code",
        "outputId": "b0f15ed8-ea3b-4e22-9934-fa0061f4e048",
        "colab": {
          "base_uri": "https://localhost:8080/",
          "height": 317
        }
      },
      "source": [
        "plt.plot(range(len(train_loss)), train_loss, 'b', label='Training loss')\n",
        "plt.plot(range(len(train_loss)), test_loss, 'r', label='Test loss')\n",
        "plt.title('Training and Test loss')\n",
        "plt.xlabel('Epochs ',fontsize=16)\n",
        "plt.ylabel('Loss',fontsize=16)\n",
        "plt.legend()\n",
        "plt.figure()\n",
        "plt.show()"
      ],
      "execution_count": 0,
      "outputs": [
        {
          "output_type": "display_data",
          "data": {
            "image/png": "[encoded data removed]",
            "text/plain": [
              "<Figure size 432x288 with 1 Axes>"
            ]
          },
          "metadata": {
            "tags": []
          }
        },
        {
          "output_type": "display_data",
          "data": {
            "text/plain": [
              "<Figure size 432x288 with 0 Axes>"
            ]
          },
          "metadata": {
            "tags": []
          }
        }
      ]
    },
    {
      "cell_type": "code",
      "metadata": {
        "id": "Jsgl9mnxdRDL",
        "colab_type": "code",
        "outputId": "5a517c83-0b35-4188-af9f-b0edc0015593",
        "colab": {
          "base_uri": "https://localhost:8080/",
          "height": 317
        }
      },
      "source": [
        "plt.plot(range(len(train_loss)), train_accuracy, 'b', label='Training Accuracy')\n",
        "plt.plot(range(len(train_loss)), test_accuracy, 'r', label='Test Accuracy')\n",
        "plt.title('Training and Test Accuracy')\n",
        "plt.xlabel('Epochs ',fontsize=16)\n",
        "plt.ylabel('Loss',fontsize=16)\n",
        "plt.legend()\n",
        "plt.figure()\n",
        "plt.show()"
      ],
      "execution_count": 0,
      "outputs": [
        {
          "output_type": "display_data",
          "data": {
            "image/png": "[encoded data removed]",
            "text/plain": [
              "<Figure size 432x288 with 1 Axes>"
            ]
          },
          "metadata": {
            "tags": []
          }
        },
        {
          "output_type": "display_data",
          "data": {
            "text/plain": [
              "<Figure size 432x288 with 0 Axes>"
            ]
          },
          "metadata": {
            "tags": []
          }
        }
      ]
    },
    {
      "cell_type": "code",
      "metadata": {
        "id": "jFaFsmlggBEH",
        "colab_type": "code",
        "colab": {}
      },
      "source": [
        ""
      ],
      "execution_count": 0,
      "outputs": []
    }
  ]
}